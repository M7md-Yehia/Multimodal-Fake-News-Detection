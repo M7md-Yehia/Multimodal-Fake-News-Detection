{
  "nbformat": 4,
  "nbformat_minor": 0,
  "metadata": {
    "colab": {
      "provenance": [],
      "gpuType": "T4"
    },
    "kernelspec": {
      "name": "python3",
      "display_name": "Python 3"
    },
    "language_info": {
      "name": "python"
    },
    "accelerator": "GPU"
  },
  "cells": [
    {
      "cell_type": "code",
      "execution_count": null,
      "metadata": {
        "colab": {
          "base_uri": "https://localhost:8080/"
        },
        "id": "MVMNanzHid06",
        "outputId": "c01a9a57-77f4-4de1-86ec-b2437b05e233"
      },
      "outputs": [
        {
          "output_type": "stream",
          "name": "stdout",
          "text": [
            "Mounted at /content/drive\n"
          ]
        }
      ],
      "source": [
        "from google.colab import drive\n",
        "drive.mount('/content/drive')\n"
      ]
    },
    {
      "cell_type": "code",
      "source": [
        "data_path = '/content/drive/My Drive/ANN_Project_data/'\n"
      ],
      "metadata": {
        "id": "L7apmAjIieYN"
      },
      "execution_count": null,
      "outputs": []
    },
    {
      "cell_type": "code",
      "source": [
        "import pandas as pd\n",
        "\n",
        "df = pd.read_csv(data_path + 'filtered_dataset_clean.csv')\n",
        "df.head()\n"
      ],
      "metadata": {
        "colab": {
          "base_uri": "https://localhost:8080/",
          "height": 208
        },
        "id": "jRMtJem3it1c",
        "outputId": "13cf79dd-521a-45d8-924f-d6b87c710fb1"
      },
      "execution_count": null,
      "outputs": [
        {
          "output_type": "execute_result",
          "data": {
            "text/plain": [
              "   ID                                                url  \\\n",
              "0   1  http://www.eonline.com/news/901683/janet-jacks...   \n",
              "1   2  http://www.yourtango.com/2018311123/7-cringey-...   \n",
              "2   3  http://pagesix.com/2018/07/05/vanessa-kirby-sh...   \n",
              "3   4  http://www.inquisitr.com/4780146/miranda-lambe...   \n",
              "4   5  http://toofab.com/2017/11/19/selena-gomez-debu...   \n",
              "\n",
              "                                                text  \\\n",
              "0  janet jackson and jermaine dupri are hooking u...   \n",
              "1  katy perry and orlando bloom are a celeb coupl...   \n",
              "2  two years into a relationship with her boyfrie...   \n",
              "3  it s been more than two years since miranda la...   \n",
              "4  getty selena gomez showed up to the american m...   \n",
              "\n",
              "                                              images  \\\n",
              "0  https://akns-images.eonline.com/eol_images/Ent...   \n",
              "1  http://www.yourtango.com/sites/default/files/2...   \n",
              "2  https://pagesix.com/wp-content/uploads/sites/3...   \n",
              "3  https://www.inquisitr.com/wp-content/uploads/2...   \n",
              "4  https://images.toofab.com/image/ae/5by6/2025/0...   \n",
              "\n",
              "                                             top_img       authors  label  \\\n",
              "0  https://akns-images.eonline.com/eol_images/Ent...       Unknown      0   \n",
              "1  https://www.yourtango.com/sites/default/files/...       Unknown      0   \n",
              "2  https://pagesix.com/wp-content/uploads/sites/3...       Unknown      0   \n",
              "3  https://www.inquisitr.com/wp-content/uploads/2...   News Writer      0   \n",
              "4  https://images.toofab.com/image/22/16by9/2017/...  Toofab Staff      0   \n",
              "\n",
              "   word_count     domain                                             tokens  \n",
              "0         119  No Domain  ['janet', 'jackson', 'and', 'jermaine', 'dupri...  \n",
              "1        1205  No Domain  ['katy', 'perry', 'and', 'orlando', 'bloom', '...  \n",
              "2         230  No Domain  ['two', 'years', 'into', 'a', 'relationship', ...  \n",
              "3         380  No Domain  ['it', 's', 'been', 'more', 'than', 'two', 'ye...  \n",
              "4         396  No Domain  ['getty', 'selena', 'gomez', 'showed', 'up', '...  "
            ],
            "text/html": [
              "\n",
              "  <div id=\"df-c20845b4-753f-42d6-8b80-057c5f65acd5\" class=\"colab-df-container\">\n",
              "    <div>\n",
              "<style scoped>\n",
              "    .dataframe tbody tr th:only-of-type {\n",
              "        vertical-align: middle;\n",
              "    }\n",
              "\n",
              "    .dataframe tbody tr th {\n",
              "        vertical-align: top;\n",
              "    }\n",
              "\n",
              "    .dataframe thead th {\n",
              "        text-align: right;\n",
              "    }\n",
              "</style>\n",
              "<table border=\"1\" class=\"dataframe\">\n",
              "  <thead>\n",
              "    <tr style=\"text-align: right;\">\n",
              "      <th></th>\n",
              "      <th>ID</th>\n",
              "      <th>url</th>\n",
              "      <th>text</th>\n",
              "      <th>images</th>\n",
              "      <th>top_img</th>\n",
              "      <th>authors</th>\n",
              "      <th>label</th>\n",
              "      <th>word_count</th>\n",
              "      <th>domain</th>\n",
              "      <th>tokens</th>\n",
              "    </tr>\n",
              "  </thead>\n",
              "  <tbody>\n",
              "    <tr>\n",
              "      <th>0</th>\n",
              "      <td>1</td>\n",
              "      <td>http://www.eonline.com/news/901683/janet-jacks...</td>\n",
              "      <td>janet jackson and jermaine dupri are hooking u...</td>\n",
              "      <td>https://akns-images.eonline.com/eol_images/Ent...</td>\n",
              "      <td>https://akns-images.eonline.com/eol_images/Ent...</td>\n",
              "      <td>Unknown</td>\n",
              "      <td>0</td>\n",
              "      <td>119</td>\n",
              "      <td>No Domain</td>\n",
              "      <td>['janet', 'jackson', 'and', 'jermaine', 'dupri...</td>\n",
              "    </tr>\n",
              "    <tr>\n",
              "      <th>1</th>\n",
              "      <td>2</td>\n",
              "      <td>http://www.yourtango.com/2018311123/7-cringey-...</td>\n",
              "      <td>katy perry and orlando bloom are a celeb coupl...</td>\n",
              "      <td>http://www.yourtango.com/sites/default/files/2...</td>\n",
              "      <td>https://www.yourtango.com/sites/default/files/...</td>\n",
              "      <td>Unknown</td>\n",
              "      <td>0</td>\n",
              "      <td>1205</td>\n",
              "      <td>No Domain</td>\n",
              "      <td>['katy', 'perry', 'and', 'orlando', 'bloom', '...</td>\n",
              "    </tr>\n",
              "    <tr>\n",
              "      <th>2</th>\n",
              "      <td>3</td>\n",
              "      <td>http://pagesix.com/2018/07/05/vanessa-kirby-sh...</td>\n",
              "      <td>two years into a relationship with her boyfrie...</td>\n",
              "      <td>https://pagesix.com/wp-content/uploads/sites/3...</td>\n",
              "      <td>https://pagesix.com/wp-content/uploads/sites/3...</td>\n",
              "      <td>Unknown</td>\n",
              "      <td>0</td>\n",
              "      <td>230</td>\n",
              "      <td>No Domain</td>\n",
              "      <td>['two', 'years', 'into', 'a', 'relationship', ...</td>\n",
              "    </tr>\n",
              "    <tr>\n",
              "      <th>3</th>\n",
              "      <td>4</td>\n",
              "      <td>http://www.inquisitr.com/4780146/miranda-lambe...</td>\n",
              "      <td>it s been more than two years since miranda la...</td>\n",
              "      <td>https://www.inquisitr.com/wp-content/uploads/2...</td>\n",
              "      <td>https://www.inquisitr.com/wp-content/uploads/2...</td>\n",
              "      <td>News Writer</td>\n",
              "      <td>0</td>\n",
              "      <td>380</td>\n",
              "      <td>No Domain</td>\n",
              "      <td>['it', 's', 'been', 'more', 'than', 'two', 'ye...</td>\n",
              "    </tr>\n",
              "    <tr>\n",
              "      <th>4</th>\n",
              "      <td>5</td>\n",
              "      <td>http://toofab.com/2017/11/19/selena-gomez-debu...</td>\n",
              "      <td>getty selena gomez showed up to the american m...</td>\n",
              "      <td>https://images.toofab.com/image/ae/5by6/2025/0...</td>\n",
              "      <td>https://images.toofab.com/image/22/16by9/2017/...</td>\n",
              "      <td>Toofab Staff</td>\n",
              "      <td>0</td>\n",
              "      <td>396</td>\n",
              "      <td>No Domain</td>\n",
              "      <td>['getty', 'selena', 'gomez', 'showed', 'up', '...</td>\n",
              "    </tr>\n",
              "  </tbody>\n",
              "</table>\n",
              "</div>\n",
              "    <div class=\"colab-df-buttons\">\n",
              "\n",
              "  <div class=\"colab-df-container\">\n",
              "    <button class=\"colab-df-convert\" onclick=\"convertToInteractive('df-c20845b4-753f-42d6-8b80-057c5f65acd5')\"\n",
              "            title=\"Convert this dataframe to an interactive table.\"\n",
              "            style=\"display:none;\">\n",
              "\n",
              "  <svg xmlns=\"http://www.w3.org/2000/svg\" height=\"24px\" viewBox=\"0 -960 960 960\">\n",
              "    <path d=\"M120-120v-720h720v720H120Zm60-500h600v-160H180v160Zm220 220h160v-160H400v160Zm0 220h160v-160H400v160ZM180-400h160v-160H180v160Zm440 0h160v-160H620v160ZM180-180h160v-160H180v160Zm440 0h160v-160H620v160Z\"/>\n",
              "  </svg>\n",
              "    </button>\n",
              "\n",
              "  <style>\n",
              "    .colab-df-container {\n",
              "      display:flex;\n",
              "      gap: 12px;\n",
              "    }\n",
              "\n",
              "    .colab-df-convert {\n",
              "      background-color: #E8F0FE;\n",
              "      border: none;\n",
              "      border-radius: 50%;\n",
              "      cursor: pointer;\n",
              "      display: none;\n",
              "      fill: #1967D2;\n",
              "      height: 32px;\n",
              "      padding: 0 0 0 0;\n",
              "      width: 32px;\n",
              "    }\n",
              "\n",
              "    .colab-df-convert:hover {\n",
              "      background-color: #E2EBFA;\n",
              "      box-shadow: 0px 1px 2px rgba(60, 64, 67, 0.3), 0px 1px 3px 1px rgba(60, 64, 67, 0.15);\n",
              "      fill: #174EA6;\n",
              "    }\n",
              "\n",
              "    .colab-df-buttons div {\n",
              "      margin-bottom: 4px;\n",
              "    }\n",
              "\n",
              "    [theme=dark] .colab-df-convert {\n",
              "      background-color: #3B4455;\n",
              "      fill: #D2E3FC;\n",
              "    }\n",
              "\n",
              "    [theme=dark] .colab-df-convert:hover {\n",
              "      background-color: #434B5C;\n",
              "      box-shadow: 0px 1px 3px 1px rgba(0, 0, 0, 0.15);\n",
              "      filter: drop-shadow(0px 1px 2px rgba(0, 0, 0, 0.3));\n",
              "      fill: #FFFFFF;\n",
              "    }\n",
              "  </style>\n",
              "\n",
              "    <script>\n",
              "      const buttonEl =\n",
              "        document.querySelector('#df-c20845b4-753f-42d6-8b80-057c5f65acd5 button.colab-df-convert');\n",
              "      buttonEl.style.display =\n",
              "        google.colab.kernel.accessAllowed ? 'block' : 'none';\n",
              "\n",
              "      async function convertToInteractive(key) {\n",
              "        const element = document.querySelector('#df-c20845b4-753f-42d6-8b80-057c5f65acd5');\n",
              "        const dataTable =\n",
              "          await google.colab.kernel.invokeFunction('convertToInteractive',\n",
              "                                                    [key], {});\n",
              "        if (!dataTable) return;\n",
              "\n",
              "        const docLinkHtml = 'Like what you see? Visit the ' +\n",
              "          '<a target=\"_blank\" href=https://colab.research.google.com/notebooks/data_table.ipynb>data table notebook</a>'\n",
              "          + ' to learn more about interactive tables.';\n",
              "        element.innerHTML = '';\n",
              "        dataTable['output_type'] = 'display_data';\n",
              "        await google.colab.output.renderOutput(dataTable, element);\n",
              "        const docLink = document.createElement('div');\n",
              "        docLink.innerHTML = docLinkHtml;\n",
              "        element.appendChild(docLink);\n",
              "      }\n",
              "    </script>\n",
              "  </div>\n",
              "\n",
              "\n",
              "    <div id=\"df-a5d5b340-b87a-4924-91cc-1c0f76a63b3f\">\n",
              "      <button class=\"colab-df-quickchart\" onclick=\"quickchart('df-a5d5b340-b87a-4924-91cc-1c0f76a63b3f')\"\n",
              "                title=\"Suggest charts\"\n",
              "                style=\"display:none;\">\n",
              "\n",
              "<svg xmlns=\"http://www.w3.org/2000/svg\" height=\"24px\"viewBox=\"0 0 24 24\"\n",
              "     width=\"24px\">\n",
              "    <g>\n",
              "        <path d=\"M19 3H5c-1.1 0-2 .9-2 2v14c0 1.1.9 2 2 2h14c1.1 0 2-.9 2-2V5c0-1.1-.9-2-2-2zM9 17H7v-7h2v7zm4 0h-2V7h2v10zm4 0h-2v-4h2v4z\"/>\n",
              "    </g>\n",
              "</svg>\n",
              "      </button>\n",
              "\n",
              "<style>\n",
              "  .colab-df-quickchart {\n",
              "      --bg-color: #E8F0FE;\n",
              "      --fill-color: #1967D2;\n",
              "      --hover-bg-color: #E2EBFA;\n",
              "      --hover-fill-color: #174EA6;\n",
              "      --disabled-fill-color: #AAA;\n",
              "      --disabled-bg-color: #DDD;\n",
              "  }\n",
              "\n",
              "  [theme=dark] .colab-df-quickchart {\n",
              "      --bg-color: #3B4455;\n",
              "      --fill-color: #D2E3FC;\n",
              "      --hover-bg-color: #434B5C;\n",
              "      --hover-fill-color: #FFFFFF;\n",
              "      --disabled-bg-color: #3B4455;\n",
              "      --disabled-fill-color: #666;\n",
              "  }\n",
              "\n",
              "  .colab-df-quickchart {\n",
              "    background-color: var(--bg-color);\n",
              "    border: none;\n",
              "    border-radius: 50%;\n",
              "    cursor: pointer;\n",
              "    display: none;\n",
              "    fill: var(--fill-color);\n",
              "    height: 32px;\n",
              "    padding: 0;\n",
              "    width: 32px;\n",
              "  }\n",
              "\n",
              "  .colab-df-quickchart:hover {\n",
              "    background-color: var(--hover-bg-color);\n",
              "    box-shadow: 0 1px 2px rgba(60, 64, 67, 0.3), 0 1px 3px 1px rgba(60, 64, 67, 0.15);\n",
              "    fill: var(--button-hover-fill-color);\n",
              "  }\n",
              "\n",
              "  .colab-df-quickchart-complete:disabled,\n",
              "  .colab-df-quickchart-complete:disabled:hover {\n",
              "    background-color: var(--disabled-bg-color);\n",
              "    fill: var(--disabled-fill-color);\n",
              "    box-shadow: none;\n",
              "  }\n",
              "\n",
              "  .colab-df-spinner {\n",
              "    border: 2px solid var(--fill-color);\n",
              "    border-color: transparent;\n",
              "    border-bottom-color: var(--fill-color);\n",
              "    animation:\n",
              "      spin 1s steps(1) infinite;\n",
              "  }\n",
              "\n",
              "  @keyframes spin {\n",
              "    0% {\n",
              "      border-color: transparent;\n",
              "      border-bottom-color: var(--fill-color);\n",
              "      border-left-color: var(--fill-color);\n",
              "    }\n",
              "    20% {\n",
              "      border-color: transparent;\n",
              "      border-left-color: var(--fill-color);\n",
              "      border-top-color: var(--fill-color);\n",
              "    }\n",
              "    30% {\n",
              "      border-color: transparent;\n",
              "      border-left-color: var(--fill-color);\n",
              "      border-top-color: var(--fill-color);\n",
              "      border-right-color: var(--fill-color);\n",
              "    }\n",
              "    40% {\n",
              "      border-color: transparent;\n",
              "      border-right-color: var(--fill-color);\n",
              "      border-top-color: var(--fill-color);\n",
              "    }\n",
              "    60% {\n",
              "      border-color: transparent;\n",
              "      border-right-color: var(--fill-color);\n",
              "    }\n",
              "    80% {\n",
              "      border-color: transparent;\n",
              "      border-right-color: var(--fill-color);\n",
              "      border-bottom-color: var(--fill-color);\n",
              "    }\n",
              "    90% {\n",
              "      border-color: transparent;\n",
              "      border-bottom-color: var(--fill-color);\n",
              "    }\n",
              "  }\n",
              "</style>\n",
              "\n",
              "      <script>\n",
              "        async function quickchart(key) {\n",
              "          const quickchartButtonEl =\n",
              "            document.querySelector('#' + key + ' button');\n",
              "          quickchartButtonEl.disabled = true;  // To prevent multiple clicks.\n",
              "          quickchartButtonEl.classList.add('colab-df-spinner');\n",
              "          try {\n",
              "            const charts = await google.colab.kernel.invokeFunction(\n",
              "                'suggestCharts', [key], {});\n",
              "          } catch (error) {\n",
              "            console.error('Error during call to suggestCharts:', error);\n",
              "          }\n",
              "          quickchartButtonEl.classList.remove('colab-df-spinner');\n",
              "          quickchartButtonEl.classList.add('colab-df-quickchart-complete');\n",
              "        }\n",
              "        (() => {\n",
              "          let quickchartButtonEl =\n",
              "            document.querySelector('#df-a5d5b340-b87a-4924-91cc-1c0f76a63b3f button');\n",
              "          quickchartButtonEl.style.display =\n",
              "            google.colab.kernel.accessAllowed ? 'block' : 'none';\n",
              "        })();\n",
              "      </script>\n",
              "    </div>\n",
              "\n",
              "    </div>\n",
              "  </div>\n"
            ],
            "application/vnd.google.colaboratory.intrinsic+json": {
              "type": "dataframe",
              "variable_name": "df",
              "summary": "{\n  \"name\": \"df\",\n  \"rows\": 5556,\n  \"fields\": [\n    {\n      \"column\": \"ID\",\n      \"properties\": {\n        \"dtype\": \"number\",\n        \"std\": 1767,\n        \"min\": 1,\n        \"max\": 6130,\n        \"num_unique_values\": 5556,\n        \"samples\": [\n          4910,\n          5098,\n          3091\n        ],\n        \"semantic_type\": \"\",\n        \"description\": \"\"\n      }\n    },\n    {\n      \"column\": \"url\",\n      \"properties\": {\n        \"dtype\": \"string\",\n        \"num_unique_values\": 5525,\n        \"samples\": [\n          \"http://radaronline.com/photos/kris-jenner-and-corey-gamble-party-in-monaco/\",\n          \"https://en.wikipedia.org/wiki/List_of_highest-grossing_films_in_the_United_States_and_Canada#Adjusted_for_ticket-price_inflation\",\n          \"http://economictimes.indiatimes.com/magazines/panache/jay-z-had-to-put-up-a-fight-to-save-his-marriage-with-beyonc/articleshow/62693426.cms\"\n        ],\n        \"semantic_type\": \"\",\n        \"description\": \"\"\n      }\n    },\n    {\n      \"column\": \"text\",\n      \"properties\": {\n        \"dtype\": \"string\",\n        \"num_unique_values\": 5282,\n        \"samples\": [\n          \"the kardashian sisters may be after each other on keeping up with the kardashians this season but when push comes to shove they always have each other s back kim and khloe kardashian used the power of social media to throw shade at kourtney s ex younes bendjima who spoke out following their breakup on tuesday in a message posted to his instagram story younes claimed news outlets wanna make me be the bad guy after photos surfaced of him getting flirty with jordan ozuna a former hooters waitress who was previously linked to tyga and justin bieber nice pics from your boys trip kim commented on the shade room s screenshot of the post while khloe commented alexa play heard it all before by sunshine anderson on another screenshotted post a source told et meanwhile that younes and jordan aren t romantically involved instagram kourtney 39 and younes 25 started dating in 2016 but recently broke up after they decided it wasn t workout out et s source said according to the source kourtney was the one to initiate the split near the end of the relationship the two weren t getting along and the age difference ultimately played a part the source added younes is young and although mature for his age he and kourtney are at different stages in their lives see more on the pair in the video below related content\",\n          \"representatives for the dr phil showare balking at allegations that the daytime talk show s psychiatrist s staff enabled guests with substance addictions to boost ratings the long running television program which is lead by phil mcgraw came under fired thursday when stat and the boston globe published an expos\\u00e9 featuring claims from multiple guests including former survivor china winner todd herzog who struggled with alcohol abuse in the years after winning the show among herzog s claims included what he said was the real story behind his headline making appearance on the program in 2013 in which mcgraw said i ve never talked to a guest who was closer to death as viewers saw herzog had to be carried onto set before his sit down with the host because he was intoxicated he registered a 263 blood alcohol content on the show and admitted he had drank an entire bottle of vodka but that bottle of vodka was provided for herzog in his dressing room by dr phil producers herzog claimed despite the fact that he had detoxed for two days in a hotel paid for by producers and was sober when he arrived for his scheduled taping he also alleged that he was given a xanax to calm his nerves before filming another bottle of vodka appeared in his dressing room during herzog s third appearance on dr phil herzog alleged though he said he did not drink it the stat article does not fairly or accurately describe the methods of dr phil the tv show or its mission to educate millions of viewers about drug and alcohol addiction the show does not give drugs or alcohol to its guests and any suggestions to the contrary is errant nonsense a spokesperson for the program tells people in a statement for the past 16 years the dr phil show has provided valuable information to viewers by telling compelling stories about people who are fighting the battle to overcome alcohol and drug addiction unfortunately addicts often lash out at the very people who are trying the hardest to help them break the cycle of addiction although terribly unfortunate this is an understandable part of the behavior of addicts on their journey to recovery deception dishonesty and denial are hallmarks of addiction it tears families apart and certainly creates levels of complexities when we produce these important shows none of this will deter the dr phil show from it s commitment to continue to educate and inform the public about the worsening epidemic of addiction martin greenberg the show s director of professional affairs described herzog s claims and others made by former guests and their families to stat and the boston globe as absolutely unequivocally untrue we do not do that with this guest or any other greenberg told stat of herzog s account later adding that herzog was medically supervised the entire time by personnel from an unnamed treatment center during his taping schedule steve thomason the executive director of the center herzog attended in texas claims no one from that facility monitored herzog in l a stat and the boston globe report explaining that doing so would violate their licenses addicts are notorious for lying deflecting and trivializing greenberg added but if they are at risk when they arrive then they were at risk before they arrived the only change is they are one step closer to getting help typically help they could not have even come close to affording elsewhere in the report families of former guests like marianne smith whose niece jordan appeared on the show and joelle king parrish whose pregnant daughter kaitlin appeared on the show claimed that producers encouraged them to go to skid row in los angeles to find drugs which the king parrishs did they also both claimed that the show did not provide any medical assistance as they awaited taping we could go on and talk about jordan l or ten others same reality all had medical supervision greenberg said in denial adding that kaitlin s mother had allegedly agreed to be 100 percent responsible for managing her daughter s health and possible withdrawal and the individual who filmed the skid row trip simply documented the natural behavior she observed which would have occurred whether she was there or not not all reports were bad though some interviewed for the story praised mcgraw and the show for getting them the help they need like former heroin addict niki dietrich few people contact us just to let us know how well things are going the show wrote in a statement to stat and the globe the fact you can cherry pick three or thirty or three hundred guests for that matter who seek to blame others for their plight or struggle in life is not the least bit surprising\",\n          \"melanie mel b brown and husband stephen belafonte seem to have settled some of the issues in their contentious divorce ahead of their trial set to begin nov 13 the couple who are ending their marriage after 10 years wed reached an agreement in the domestic violence portion of their divorce tmz reports with the former spice girl agreeing to drop the temporary restraining order she filed in april against belafonte brown 42 had accused her ex of physically and emotionally abusing her alleging in her tro filing that she was in fear for her life and that belafonte s alleged abuse ramped up when her career was on an upswing belafonte 42 and brown who wed in las vegas in june 2007 also settled a portion of their property division tmz reports a rep for brown did not immediately return people s request for comment phillip faraone getty the former couple s divorce has been a nasty battle since brown filed in march and asked for joint legal and physical custody of their 6 year old daughter madison brown also requested to terminate the court s ability to award spousal support in her filing people confirmed in july brown was ordered to pay belafonte 40 000 per month in temporary spousal support and pay for 140 000 in attorney fees and forensic fees on belafonte s behalf amid her restraining order filings in april brown claimed that belafonte hired a german exchange student lorraine gilles to be their nanny and pitted the two women against each other brown claimed the nanny s relationship with belafonte became sexual and that he impregnated her before demanding an abortion she was granted a restraining order against gilles in april but gilles in turn sued brown for defamation claiming her pregnancy was the result of a one night stand their battle remains unresolved related video forced threesomes and injury coverups the biggest bombshell allegations from mel b s restraining order against her ex meanwhile in october new details of brown and belafonte s marriage emerged in a court proceeding in los angeles with brown claiming belafonte drugged her throughout much to most of the relationship according to his lawyer philip cohen as reported by multiple outlets miss brown now takes the position she was drugged by mr belafonte throughout the course of the marriage cohen said in l a superior court belafonte and his legal team responded to brown s allegations claiming they are nothing more than a smear campaign also in court in october brown s lawyers said belafonte had at least 56 videos a third of which were of a sexual nature according to the sun susan wiesner a member of brown s legal team said 90 percent of the videos were of the former spice girl and were made without brown s consent belafonte s lawyers dismissed the claim arguing that the videos were consensual hearings between brown and belafonte s legal teams remain ongoing\"\n        ],\n        \"semantic_type\": \"\",\n        \"description\": \"\"\n      }\n    },\n    {\n      \"column\": \"images\",\n      \"properties\": {\n        \"dtype\": \"string\",\n        \"num_unique_values\": 5365,\n        \"samples\": [\n          \"https://media.okmagazine.com/brand-img/_34vsAHzF/0x0/2018/08/wags-la-3.jpg, https://media.okmagazine.com/brand-img/DUheUpOc1/0x0/2018/08/GettyImages-1001036220.jpg, https://media.okmagazine.com/brand-img/_Ifeg5yfL/1200x628/2018/08/wags-la-pp.jpg, https://media.okmagazine.com/brand-img/1TRTBTXNE/0x0/2018/08/wags-miami-2.jpg, https://okmagazine.com/icons/facebook_black.svg, https://media.okmagazine.com/brand-img/gmPifLymC/0x0/2018/08/wags-LA-1.jpg, https://okmagazine.com/ok_logo_black.png, https://okmagazine.com/icons/x_black.svg, https://okmagazine.com/icons/email_black.svg, https://media.okmagazine.com/brand-img/D-kcl2mI5/0x0/2018/08/wags-miami-3.jpg, https://media.okmagazine.com/brand-img/HBiNjZbDt/0x0/2018/08/wags-la-2.jpg, https://okmagazine.com/icons/flipboard_black.svg, https://okmagazine.com/ok_logo_black_small.png, https://okmagazine.com/ok_logo_white.png, data:image/webp;base64,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\",\n          \"http://radaronline.com/search.svg, http://radaronline.com/person.svg, https://media.radaronline.com/brand-img/0hew1raZW/0x0/bravo-producer-only-fans-3-1744044610468.jpg, http://radaronline.com/radar_tip.svg, https://media.radaronline.com/brand-img/meVwBSqbI/1200x628/2017/08/Khloe-Kardashian-Tristan-Thompson-Engaged-pp-.jpg, https://media.radaronline.com/brand-img/Lry1sPJjb/0x0/burr-mangione-1743705785320.jpg, http://radaronline.com/logo-black-footer.svg, http://radaronline.com/sell-your-story.jpg, https://media.radaronline.com/brand-img/pnhkgatCD/2160x1130/clint-eastwood-1719930007800.jpg, https://media.radaronline.com/brand-img/3xrP_BrKH/2160x1130/tom-cruise-victoria-canal-1721326386761.jpg, https://media.radaronline.com/brand-img/5VOfJowTv/0x0/lil-nas-x-says-he-lost-control-of-half-his-face-in-video-from-hospital-1744750602945.png, https://media.radaronline.com/brand-img/OFwLFSkBA/2160x1130/jennifer-lopez-ben-affleck-1716594010628.jpg, http://radaronline.com/icons/x_black.svg, http://radaronline.com/icons/email_black.svg, http://radaronline.com/talk-bubble.svg, http://radaronline.com/icons/flipboard_black.svg, http://radaronline.com/radar_logo.png, http://radaronline.com/icons/facebook_black.svg, http://radaronline.com/radar275x100.png, http://radaronline.com/logo-black.svg, http://radaronline.com/exclusives.png, http://radaronline.com/best-radar-header.svg, https://media.radaronline.com/brand-img/_rtTBL64P/0x0/tyreek-hill-dangles-baby-off-miami-high-rise-pp-1744312614067.jpg, https://media.radaronline.com/brand-img/LtZxpmf6N/0x0/val-kilmer-documentary-1743695981244.jpg, https://media.radaronline.com/brand-img/khvUZJkSK/0x0/gene-hackman-dogs-1-1743630917247.jpg, http://radaronline.com/newsletter_icon.svg\",\n          \"https://www.usmagazine.com/wp-content/themes/us-weekly/assets/img/svg-icons/icon-facebook-r.svg, https://www.usmagazine.com/wp-content/uploads/2024/12/3-black.png?w=600&h=338&crop=1&quality=86&strip=all, https://www.usmagazine.com/wp-content/themes/us-weekly/assets/img/svg-icons/logo-tag-registered-green.svg, https://www.usmagazine.com/wp-content/themes/us-weekly/assets/img/svg-icons/icon-tiktok-r.svg, https://www.usmagazine.com/wp-content/themes/us-weekly/assets/img/svg-icons/icon-instagram-r.svg, https://www.usmagazine.com/wp-content/uploads/2025/04/blouse_878b2c.jpg?w=300&h=300&crop=1&quality=70&strip=all, https://www.usmagazine.com/wp-content/uploads/2025/04/177074_0093_v1.jpg?crop=0px%2C0px%2C2250px%2C2250px&resize=600%2C600&quality=55&strip=all, https://www.usmagazine.com/wp-content/uploads/2018/07/Juelia-Kinney-engaged.jpg?w=1000&quality=86&strip=all, https://www.usmagazine.com/wp-content/themes/us-weekly/assets/img/svg-icons/icon-applenews-r.svg, https://www.usmagazine.com/wp-content/uploads/2025/04/Former-Child-Star-Sophie-Nyweide-Dead-at-24.jpg?crop=145px%2C35px%2C851px%2C852px&resize=600%2C600&quality=40&strip=all, https://www.usmagazine.com/wp-content/themes/us-weekly/assets/img/svg-icons/icon-twitter-r.svg, https://www.usmagazine.com/wp-content/uploads/2025/04/GettyImages-1067395816-Backstreet.jpg?crop=0px%2C0px%2C1980px%2C1980px&resize=600%2C600&quality=40&strip=all, https://www.usmagazine.com/wp-content/themes/us-weekly/assets/img/a360media-logo-color.svg, https://sso.ami-admin.com/wp-content/uploads/us_footer_weekly.jpg?auto=compress&q=55&w=410&h=546&cachebuster=17, https://www.usmagazine.com/wp-content/uploads/2024/12/privacyoptions730x350.png, https://www.usmagazine.com/wp-content/themes/us-weekly/assets/img/svg-icons/logo-tag-registered.svg, https://www.usmagazine.com/wp-content/uploads/2025/04/dancing-with-the-stars-reveals-1st-celebrity-cast-member-while-announcing-season-34-renewal-03.jpg?crop=578px%2C20px%2C1266px%2C1265px&resize=600%2C600&quality=86&strip=all, https://www.usmagazine.com/wp-content/uploads/2025/04/Influencer-Diagnosed-With-Incurable-Colon-Cancer-Dead-at-Age-21-feature.jpg?w=600&h=600&crop=1&quality=40&strip=all, https://www.usmagazine.com/wp-content/uploads/2018/07/Juelia-Kinney-aaron-bass-engaged.jpg?crop=98px%2C18px%2C634px%2C333px&resize=1200%2C630&quality=86&strip=all, https://www.usmagazine.com/wp-content/themes/us-weekly/assets/img/svg-icons/icon-googlenews-r.svg, https://www.usmagazine.com/wp-content/uploads/2018/07/Juelia-Kinney-aaron-bass-engaged.jpg?w=966&quality=86&strip=all, https://www.usmagazine.com/wp-content/themes/us-weekly/assets/img/svg-icons/icon-whatsapp.svg\"\n        ],\n        \"semantic_type\": \"\",\n        \"description\": \"\"\n      }\n    },\n    {\n      \"column\": \"top_img\",\n      \"properties\": {\n        \"dtype\": \"string\",\n        \"num_unique_values\": 5076,\n        \"samples\": [\n          \"https://people.com/thmb/9LXCxkVqBBp2tb8PodI1Vf3V3oc=/1500x0/filters:no_upscale():max_bytes(150000):strip_icc():focal(471x0:473x2)/06_12_2017_noupc-2-89e112281f9842c1b51e4daf834c5ab1.jpg\",\n          \"https://deadline.com/wp-content/uploads/2017/02/lotr.jpg?w=1024\",\n          \"https://i.dailymail.co.uk/i/newpix/2018/03/05/23/49E67F5D00000578-0-image-a-42_1520293233350.jpg\"\n        ],\n        \"semantic_type\": \"\",\n        \"description\": \"\"\n      }\n    },\n    {\n      \"column\": \"authors\",\n      \"properties\": {\n        \"dtype\": \"category\",\n        \"num_unique_values\": 1616,\n        \"samples\": [\n          \"In Touch Staff, .Wp-Block-Co-Authors-Plus-Coauthors.Is-Layout-Flow, Class, Wp-Block-Co-Authors-Plus, Display Inline, .Wp-Block-Co-Authors-Plus-Avatar, Where Img, Height Auto Max-Width, Vertical-Align Bottom .Wp-Block-Co-Authors-Plus-Coauthors.Is-Layout-Flow .Wp-Block-Co-Authors-Plus-Avatar, Vertical-Align Middle .Wp-Block-Co-Authors-Plus-Avatar Is .Alignleft .Alignright\",\n          \"Alex Young\",\n          \"Micki Spollen\"\n        ],\n        \"semantic_type\": \"\",\n        \"description\": \"\"\n      }\n    },\n    {\n      \"column\": \"label\",\n      \"properties\": {\n        \"dtype\": \"number\",\n        \"std\": 0,\n        \"min\": 0,\n        \"max\": 1,\n        \"num_unique_values\": 2,\n        \"samples\": [\n          1,\n          0\n        ],\n        \"semantic_type\": \"\",\n        \"description\": \"\"\n      }\n    },\n    {\n      \"column\": \"word_count\",\n      \"properties\": {\n        \"dtype\": \"number\",\n        \"std\": 265,\n        \"min\": 3,\n        \"max\": 1267,\n        \"num_unique_values\": 1063,\n        \"samples\": [\n          469,\n          411\n        ],\n        \"semantic_type\": \"\",\n        \"description\": \"\"\n      }\n    },\n    {\n      \"column\": \"domain\",\n      \"properties\": {\n        \"dtype\": \"category\",\n        \"num_unique_values\": 1,\n        \"samples\": [\n          \"No Domain\"\n        ],\n        \"semantic_type\": \"\",\n        \"description\": \"\"\n      }\n    },\n    {\n      \"column\": \"tokens\",\n      \"properties\": {\n        \"dtype\": \"string\",\n        \"num_unique_values\": 5282,\n        \"samples\": [\n          \"['the', 'kardashian', 'sisters', 'may', 'be', 'after', 'each', 'other', 'on', 'keeping', 'up', 'with', 'the', 'kardashians', 'this', 'season', 'but', 'when', 'push', 'comes', 'to', 'shove', 'they', 'always', 'have', 'each', 'other', 's', 'back', 'kim', 'and', 'khloe', 'kardashian', 'used', 'the', 'power', 'of', 'social', 'media', 'to', 'throw', 'shade', 'at', 'kourtney', 's', 'ex', 'younes', 'bendjima', 'who', 'spoke', 'out', 'following', 'their', 'breakup', 'on', 'tuesday', 'in', 'a', 'message', 'posted', 'to', 'his', 'instagram', 'story', 'younes', 'claimed', 'news', 'outlets', 'wanna', 'make', 'me', 'be', 'the', 'bad', 'guy', 'after', 'photos', 'surfaced', 'of', 'him', 'getting', 'flirty', 'with', 'jordan', 'ozuna', 'a', 'former', 'hooters', 'waitress', 'who', 'was', 'previously', 'linked', 'to', 'tyga', 'and', 'justin', 'bieber', 'nice', 'pics', 'from', 'your', 'boys', 'trip', 'kim', 'commented', 'on', 'the', 'shade', 'room', 's', 'screenshot', 'of', 'the', 'post', 'while', 'khloe', 'commented', 'alexa', 'play', 'heard', 'it', 'all', 'before', 'by', 'sunshine', 'anderson', 'on', 'another', 'screenshotted', 'post', 'a', 'source', 'told', 'et', 'meanwhile', 'that', 'younes', 'and', 'jordan', 'aren', 't', 'romantically', 'involved', 'instagram', 'kourtney', '39', 'and', 'younes', '25', 'started', 'dating', 'in', '2016', 'but', 'recently', 'broke', 'up', 'after', 'they', 'decided', 'it', 'wasn', 't', 'workout', 'out', 'et', 's', 'source', 'said', 'according', 'to', 'the', 'source', 'kourtney', 'was', 'the', 'one', 'to', 'initiate', 'the', 'split', 'near', 'the', 'end', 'of', 'the', 'relationship', 'the', 'two', 'weren', 't', 'getting', 'along', 'and', 'the', 'age', 'difference', 'ultimately', 'played', 'a', 'part', 'the', 'source', 'added', 'younes', 'is', 'young', 'and', 'although', 'mature', 'for', 'his', 'age', 'he', 'and', 'kourtney', 'are', 'at', 'different', 'stages', 'in', 'their', 'lives', 'see', 'more', 'on', 'the', 'pair', 'in', 'the', 'video', 'below', 'related', 'content']\"\n        ],\n        \"semantic_type\": \"\",\n        \"description\": \"\"\n      }\n    }\n  ]\n}"
            }
          },
          "metadata": {},
          "execution_count": 4
        }
      ]
    },
    {
      "cell_type": "code",
      "source": [
        "import zipfile\n",
        "\n",
        "with zipfile.ZipFile(data_path + 'preprocessed_images.zip', 'r') as zip_ref:\n",
        "    zip_ref.extractall('/content/images')\n"
      ],
      "metadata": {
        "id": "BKWh-h9ri658"
      },
      "execution_count": null,
      "outputs": []
    },
    {
      "cell_type": "code",
      "source": [
        "!pip install transformers\n"
      ],
      "metadata": {
        "colab": {
          "base_uri": "https://localhost:8080/"
        },
        "id": "LMXsFZUemZ47",
        "outputId": "8cc02a98-1c14-4541-8633-33987a00a696"
      },
      "execution_count": null,
      "outputs": [
        {
          "output_type": "stream",
          "name": "stdout",
          "text": [
            "Requirement already satisfied: transformers in /usr/local/lib/python3.11/dist-packages (4.51.3)\n",
            "Requirement already satisfied: filelock in /usr/local/lib/python3.11/dist-packages (from transformers) (3.18.0)\n",
            "Requirement already satisfied: huggingface-hub<1.0,>=0.30.0 in /usr/local/lib/python3.11/dist-packages (from transformers) (0.31.1)\n",
            "Requirement already satisfied: numpy>=1.17 in /usr/local/lib/python3.11/dist-packages (from transformers) (2.0.2)\n",
            "Requirement already satisfied: packaging>=20.0 in /usr/local/lib/python3.11/dist-packages (from transformers) (24.2)\n",
            "Requirement already satisfied: pyyaml>=5.1 in /usr/local/lib/python3.11/dist-packages (from transformers) (6.0.2)\n",
            "Requirement already satisfied: regex!=2019.12.17 in /usr/local/lib/python3.11/dist-packages (from transformers) (2024.11.6)\n",
            "Requirement already satisfied: requests in /usr/local/lib/python3.11/dist-packages (from transformers) (2.32.3)\n",
            "Requirement already satisfied: tokenizers<0.22,>=0.21 in /usr/local/lib/python3.11/dist-packages (from transformers) (0.21.1)\n",
            "Requirement already satisfied: safetensors>=0.4.3 in /usr/local/lib/python3.11/dist-packages (from transformers) (0.5.3)\n",
            "Requirement already satisfied: tqdm>=4.27 in /usr/local/lib/python3.11/dist-packages (from transformers) (4.67.1)\n",
            "Requirement already satisfied: fsspec>=2023.5.0 in /usr/local/lib/python3.11/dist-packages (from huggingface-hub<1.0,>=0.30.0->transformers) (2025.3.2)\n",
            "Requirement already satisfied: typing-extensions>=3.7.4.3 in /usr/local/lib/python3.11/dist-packages (from huggingface-hub<1.0,>=0.30.0->transformers) (4.13.2)\n",
            "Requirement already satisfied: hf-xet<2.0.0,>=1.1.0 in /usr/local/lib/python3.11/dist-packages (from huggingface-hub<1.0,>=0.30.0->transformers) (1.1.0)\n",
            "Requirement already satisfied: charset-normalizer<4,>=2 in /usr/local/lib/python3.11/dist-packages (from requests->transformers) (3.4.2)\n",
            "Requirement already satisfied: idna<4,>=2.5 in /usr/local/lib/python3.11/dist-packages (from requests->transformers) (3.10)\n",
            "Requirement already satisfied: urllib3<3,>=1.21.1 in /usr/local/lib/python3.11/dist-packages (from requests->transformers) (2.4.0)\n",
            "Requirement already satisfied: certifi>=2017.4.17 in /usr/local/lib/python3.11/dist-packages (from requests->transformers) (2025.4.26)\n"
          ]
        }
      ]
    },
    {
      "cell_type": "code",
      "source": [
        "from transformers import BlipProcessor, BlipForConditionalGeneration\n",
        "from PIL import Image\n",
        "import os\n",
        "import pandas as pd\n",
        "from tqdm import tqdm\n",
        "import torch\n",
        "\n",
        "processor = BlipProcessor.from_pretrained(\"Salesforce/blip-image-captioning-base\")\n",
        "model = BlipForConditionalGeneration.from_pretrained(\"Salesforce/blip-image-captioning-base\").to(\"cuda\" if torch.cuda.is_available() else \"cpu\")\n",
        "\n",
        "base_path = '/content/images'\n",
        "labels = ['label_0', 'label_1']\n",
        "\n",
        "results = []\n",
        "\n",
        "for label_str in labels:\n",
        "    label_num = int(label_str.split('_')[1])\n",
        "    folder = os.path.join(base_path, label_str)\n",
        "    image_files = [f for f in os.listdir(folder) if f.endswith('.jpg')]\n",
        "\n",
        "    print(f\"🔍 Preprocessing {len(image_files)} images from {label_str} ...\")\n",
        "\n",
        "    for filename in tqdm(image_files):\n",
        "        try:\n",
        "            image_path = os.path.join(folder, filename)\n",
        "            raw_image = Image.open(image_path).convert('RGB')\n",
        "            inputs = processor(raw_image, return_tensors=\"pt\").to(model.device)\n",
        "            out = model.generate(**inputs)\n",
        "            caption = processor.decode(out[0], skip_special_tokens=True)\n",
        "        except Exception as e:\n",
        "            caption = \"ERROR\"\n",
        "            print(f\"ERROR: {filename} — {e}\")\n",
        "\n",
        "        results.append({\n",
        "            'image_name': filename,\n",
        "            'caption': caption,\n",
        "            'label': label_num\n",
        "        })\n",
        "\n",
        "df = pd.DataFrame(results)\n",
        "\n",
        "csv_output = '/content/captions_with_labels.csv'\n",
        "df.to_csv(csv_output, index=False)\n",
        "print(f\"done Saved{csv_output}\")\n"
      ],
      "metadata": {
        "id": "eAnYiEHtjRbc"
      },
      "execution_count": null,
      "outputs": []
    },
    {
      "cell_type": "code",
      "source": [
        "import os\n",
        "import shutil\n",
        "\n",
        "output_dir = '/content/drive/My Drive/ANN_Output'\n",
        "os.makedirs(output_dir, exist_ok=True)\n",
        "\n",
        "local_file = '/content/captions_with_labels.csv'\n",
        "destination = os.path.join(output_dir, 'captions_with_labels.csv')\n",
        "\n",
        "shutil.copy(local_file, destination)\n",
        "print(f\"Done Saved: {destination}\")\n"
      ],
      "metadata": {
        "colab": {
          "base_uri": "https://localhost:8080/"
        },
        "id": "Qmmo4YuOlyzh",
        "outputId": "1477610d-fc38-488a-f45b-aa384db2da2e"
      },
      "execution_count": null,
      "outputs": [
        {
          "output_type": "stream",
          "name": "stdout",
          "text": [
            "✅ تم حفظ الملف في: /content/drive/My Drive/ANN_Output/captions_with_labels.csv\n"
          ]
        }
      ]
    },
    {
      "cell_type": "code",
      "source": [
        "import zipfile\n",
        "\n",
        "glove_zip_path = '/content/drive/My Drive/ANN/glove.840B.300d.txt.zip'\n",
        "we_zip_path = '/content/drive/My Drive/ANN/We.npy.zip'\n",
        "\n",
        "glove_extract_path = '/content/drive/My Drive/ANN/glove.840B.300d.txt'\n",
        "we_extract_path = '/content/drive/My Drive/ANN/We.npy'\n",
        "\n",
        "with zipfile.ZipFile(glove_zip_path, 'r') as zip_ref:\n",
        "    zip_ref.extractall('/content')\n",
        "\n",
        "with zipfile.ZipFile(we_zip_path, 'r') as zip_ref:\n",
        "    zip_ref.extractall('/content')\n",
        "\n"
      ],
      "metadata": {
        "id": "RGVyVHLOtb5J",
        "colab": {
          "base_uri": "https://localhost:8080/"
        },
        "outputId": "f5dbcc7a-a99d-48ea-a50d-c1fe310c7e42"
      },
      "execution_count": null,
      "outputs": [
        {
          "output_type": "stream",
          "name": "stdout",
          "text": [
            "✅ تم فك ضغط الملفات بنجاح!\n"
          ]
        }
      ]
    },
    {
      "cell_type": "code",
      "source": [
        "import numpy as np\n",
        "\n",
        "def load_glove_embeddings(glove_file):\n",
        "    embeddings_index = {}\n",
        "    with open(glove_file, 'r', encoding='utf-8') as f:\n",
        "        for line in f:\n",
        "            values = line.split()\n",
        "            word = values[0]\n",
        "            try:\n",
        "                coefs = np.asarray(values[1:], dtype='float32')\n",
        "            except ValueError:\n",
        "                continue\n",
        "            embeddings_index[word] = coefs\n",
        "    return embeddings_index\n",
        "\n",
        "glove_file = '/content/glove.840B.300d.txt'\n",
        "\n",
        "glove_embeddings = load_glove_embeddings(glove_file)\n",
        "\n",
        "\n"
      ],
      "metadata": {
        "id": "i1Zsw_xBBbsL"
      },
      "execution_count": null,
      "outputs": []
    },
    {
      "cell_type": "code",
      "source": [
        "import numpy as np\n",
        "\n",
        "captions_embeddings = np.load('/content/captions_embeddings.npy')\n",
        "\n",
        "print(captions_embeddings.shape)\n",
        "\n",
        "print(captions_embeddings[:5])\n"
      ],
      "metadata": {
        "id": "Ns3AiNadX4TJ"
      },
      "execution_count": null,
      "outputs": []
    },
    {
      "cell_type": "markdown",
      "source": [],
      "metadata": {
        "id": "ExK5M4KfX4KT"
      }
    },
    {
      "cell_type": "code",
      "source": [],
      "metadata": {
        "id": "OYh6IUtkEtuN"
      },
      "execution_count": null,
      "outputs": []
    },
    {
      "cell_type": "code",
      "source": [
        "def text_to_embedding(text, glove_embeddings):\n",
        "    words = text.split()\n",
        "    embeddings = []\n",
        "    for word in words:\n",
        "        embedding = glove_embeddings.get(word.lower())\n",
        "        if embedding is not None:\n",
        "            embeddings.append(embedding)\n",
        "    if embeddings:\n",
        "        return np.mean(embeddings, axis=0)\n",
        "    else:\n",
        "        return np.zeros(300)\n",
        "captions_embeddings = df['caption'].apply(lambda x: text_to_embedding(str(x), glove_embeddings))\n",
        "\n",
        "np.save('/content/captions_embeddings.npy', np.array(captions_embeddings.tolist()))\n",
        "\n"
      ],
      "metadata": {
        "id": "Fg14Z6IhFs3F"
      },
      "execution_count": null,
      "outputs": []
    },
    {
      "cell_type": "code",
      "source": [],
      "metadata": {
        "id": "9QG70_1GkJsA"
      },
      "execution_count": null,
      "outputs": []
    },
    {
      "cell_type": "code",
      "source": [],
      "metadata": {
        "id": "eBCBwQb45-78"
      },
      "execution_count": null,
      "outputs": []
    },
    {
      "cell_type": "code",
      "source": [],
      "metadata": {
        "id": "EYbzcgBBnmSH"
      },
      "execution_count": null,
      "outputs": []
    },
    {
      "cell_type": "code",
      "source": [],
      "metadata": {
        "id": "JMxMcZOY5p6_"
      },
      "execution_count": null,
      "outputs": []
    },
    {
      "cell_type": "code",
      "source": [
        "import pandas as pd\n",
        "\n",
        "# Load the datasets\n",
        "filtered_dataset_path = '/content/filtered_dataset_clean.csv'\n",
        "captions_file_path = '/content/captions_with_labels.csv'\n",
        "\n",
        "# Load the datasets into pandas DataFrames\n",
        "filtered_dataset_df = pd.read_csv(filtered_dataset_path)\n",
        "captions_df = pd.read_csv(captions_file_path)\n",
        "\n",
        "print(captions_df['image_name'].head())\n"
      ],
      "metadata": {
        "colab": {
          "base_uri": "https://localhost:8080/"
        },
        "id": "scYIq_fxCRBI",
        "outputId": "999a4e80-ae8a-4728-9a9e-693f3477a161"
      },
      "execution_count": null,
      "outputs": [
        {
          "output_type": "stream",
          "name": "stdout",
          "text": [
            "0    image_1542.jpg\n",
            "1    image_2179.jpg\n",
            "2    image_1083.jpg\n",
            "3     image_370.jpg\n",
            "4    image_2572.jpg\n",
            "Name: image_name, dtype: object\n"
          ]
        }
      ]
    },
    {
      "cell_type": "code",
      "source": [
        "import pandas as pd\n",
        "\n",
        "# Load the dataset\n",
        "captions_file_path = '/content/captions_with_labels.csv'\n",
        "captions_df = pd.read_csv(captions_file_path)\n",
        "\n",
        "# Check the first few rows to see the structure\n",
        "print(captions_df.head())\n",
        "\n",
        "# Drop rows where 'image_name' is missing\n",
        "captions_df = captions_df.dropna(subset=['image_name'])\n",
        "\n",
        "# Ensure 'image_name' column contains valid values (split by '_')\n",
        "captions_df = captions_df[captions_df['image_name'].str.contains('_', na=False)]\n",
        "\n",
        "# Extract image_number from \"image_28.jpg\" → 28\n",
        "captions_df['image_name'] = captions_df['image_name'].str.split('_').str[1].str.split('.').str[0].astype(int)\n",
        "\n",
        "# Check the result\n",
        "print(captions_df.head())\n",
        "\n",
        "# Proceed with merging if necessary\n"
      ],
      "metadata": {
        "colab": {
          "base_uri": "https://localhost:8080/"
        },
        "id": "V45A7rg5E3q9",
        "outputId": "81033947-ff11-4869-ae22-411abf25cd78"
      },
      "execution_count": null,
      "outputs": [
        {
          "output_type": "stream",
          "name": "stdout",
          "text": [
            "       image_name                                            caption  label\n",
            "0  image_1542.jpg  khla and khla at the launch party for their ne...      0\n",
            "1  image_2179.jpg                the girls are dancing in the street      0\n",
            "2  image_1083.jpg        a man in a red shirt is standing on a stage      0\n",
            "3   image_370.jpg  a man in a white suit and hat standing on a re...      0\n",
            "4  image_2572.jpg  a woman in a black shirt and red pants is sitt...      0\n",
            "   image_name                                            caption  label\n",
            "0        1542  khla and khla at the launch party for their ne...      0\n",
            "1        2179                the girls are dancing in the street      0\n",
            "2        1083        a man in a red shirt is standing on a stage      0\n",
            "3         370  a man in a white suit and hat standing on a re...      0\n",
            "4        2572  a woman in a black shirt and red pants is sitt...      0\n"
          ]
        }
      ]
    }
  ]
}